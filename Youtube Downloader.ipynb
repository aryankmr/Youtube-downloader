{
 "cells": [
  {
   "cell_type": "code",
   "execution_count": 146,
   "metadata": {},
   "outputs": [],
   "source": [
    "from tkinter import *\n",
    "from tkinter import ttk\n",
    "from tkinter import filedialog"
   ]
  },
  {
   "cell_type": "code",
   "execution_count": 147,
   "metadata": {},
   "outputs": [],
   "source": [
    "from pytube import YouTube\n",
    "Folder_Name = \"\"\n",
    "#file loaction\n",
    "def openLocation():\n",
    "    global Folder_Name\n",
    "    Folder_Name = filedialog.askdirectory()\n",
    "    if(len(Folder_Name)>1):\n",
    "        locationError.config(text=Folder_Name,fg='green')\n",
    "    else:\n",
    "        locationError.config(text=\"Please Choose Folder!!\",fg=\"red\")\n",
    "        \n",
    "def Downloader():\n",
    "    choice = ydchoicebox.get()\n",
    "    url = link_enter.get()\n",
    "    if(len(url)>1):\n",
    "        error.config(text=\"\")\n",
    "        yt = YouTube(url)\n",
    "        if(choice == choicebox[0]):\n",
    "            select = yt.streams.filter(progressive=True).first()\n",
    "        elif(choice == choicebox[1]):\n",
    "            select = yt.streams.filter(progressive=True,file_extension='mp4').last()\n",
    "        elif(choice == choicebox[2]):\n",
    "            select = yt.streams.filter(only_audio=True).first()\n",
    "        else:\n",
    "            error.config(text=\"Paste Link again!\",fg=\"red\")    \n",
    "            \n",
    "            \n",
    "#download function\n",
    "    select.download(Folder_Name)\n",
    "    error.config(text=\"Download Completed!!\")\n"
   ]
  },
  {
   "cell_type": "code",
   "execution_count": 148,
   "metadata": {},
   "outputs": [],
   "source": [
    "root = Tk()"
   ]
  },
  {
   "cell_type": "code",
   "execution_count": 149,
   "metadata": {},
   "outputs": [],
   "source": [
    "root.title(\"Aryan's Youtube Downloader\")\n",
    "root.geometry(\"500x300\")\n",
    "root.columnconfigure(0,weight=1)\n"
   ]
  },
  {
   "cell_type": "code",
   "execution_count": 150,
   "metadata": {},
   "outputs": [],
   "source": [
    "#Youtube Video Dowwnloader heading label\n",
    "ydmainLabel = Label(root,text = 'Youtube Video Downloader',fg = 'red', font = 'arial 20 bold')\n",
    "ydmainLabel.grid()\n",
    "#enter url label\n",
    "ydLabel = Label(root,text='Enter the URL of the video', font = 'jost 15')\n",
    "ydLabel.grid()"
   ]
  },
  {
   "cell_type": "code",
   "execution_count": 151,
   "metadata": {},
   "outputs": [],
   "source": [
    "#link enter spot\n",
    "link = StringVar()"
   ]
  },
  {
   "cell_type": "code",
   "execution_count": null,
   "metadata": {},
   "outputs": [],
   "source": []
  },
  {
   "cell_type": "code",
   "execution_count": 152,
   "metadata": {},
   "outputs": [],
   "source": [
    "link_enter = Entry(root, width =70, textvariable = link)\n",
    "link_enter.grid()\n",
    "\n",
    "#for handelling entry box error errors\n",
    "error = Label(root,text='Error Msg',fg = 'red',font= 'jost 10')\n",
    "error.grid()\n",
    "\n",
    "#save file label\n",
    "save= Label(root,text='Save the Video File',font= 'jost 10')\n",
    "save.grid()\n",
    "\n",
    "#save button\n",
    "savebutton = Button(root,width=10,bg='red',fg='white',text='Choose path', command=openLocation)\n",
    "savebutton.grid()\n",
    "\n",
    "#error message loaction\n",
    "locationError = Label(root,text='error msg of path',fg='red', font ='jost 10')\n",
    "locationError.grid()\n",
    "\n",
    "#select quality label\n",
    "vQuality = Label(root,text='Select Quality',font='jost 10')\n",
    "vQuality.grid()\n",
    "\n",
    "#choice filling box\n",
    "choicebox = ['720p','144p','Only Audio']\n",
    "ydchoicebox = ttk.Combobox(root,values=choicebox)\n",
    "ydchoicebox.grid()\n",
    "\n",
    "#download button\n",
    "downloadb = Button(root,text='Download',width=10,bg='red',fg='white', command=Downloader)\n",
    "downloadb.grid()\n",
    "\n",
    "#end closing label\n",
    "closel = Label(root,text='YT video downloader (python basic implementation)',font ='jost 5')\n",
    "closel.grid()\n",
    "aryan= Label(root,text='Aryan Kumar',fg='red',font='jost 10')\n",
    "aryan.grid()"
   ]
  },
  {
   "cell_type": "code",
   "execution_count": 153,
   "metadata": {},
   "outputs": [],
   "source": [
    "root.mainloop()"
   ]
  },
  {
   "cell_type": "code",
   "execution_count": null,
   "metadata": {},
   "outputs": [],
   "source": [
    "\n"
   ]
  },
  {
   "cell_type": "code",
   "execution_count": null,
   "metadata": {},
   "outputs": [],
   "source": []
  },
  {
   "cell_type": "code",
   "execution_count": null,
   "metadata": {},
   "outputs": [],
   "source": []
  }
 ],
 "metadata": {
  "kernelspec": {
   "display_name": "Python 3",
   "language": "python",
   "name": "python3"
  },
  "language_info": {
   "codemirror_mode": {
    "name": "ipython",
    "version": 3
   },
   "file_extension": ".py",
   "mimetype": "text/x-python",
   "name": "python",
   "nbconvert_exporter": "python",
   "pygments_lexer": "ipython3",
   "version": "3.8.2"
  }
 },
 "nbformat": 4,
 "nbformat_minor": 4
}
